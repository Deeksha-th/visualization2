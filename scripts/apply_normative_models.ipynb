{
 "cells": [
  {
   "cell_type": "markdown",
   "id": "2d8fb4c8-4360-4fdc-b0a2-e1c2e22bd8f9",
   "metadata": {},
   "source": [
    "## Using lifespan models to make predictions on new data\n",
    "\n",
    "This notebook shows how to apply the coefficients from pre-estimated normative models to new data. \n",
    "\n",
    "First, we import the required libraries"
   ]
  },
  {
   "cell_type": "code",
   "execution_count": 1,
   "id": "ff661cf2-7d80-46bb-bcfb-1650a93eed3d",
   "metadata": {},
   "outputs": [],
   "source": [
    "import os\n",
    "import numpy as np\n",
    "import pandas as pd\n",
    "import pickle\n",
    "from matplotlib import pyplot as plt\n",
    "import seaborn as sns\n",
    "\n",
    "from pcntoolkit.normative import estimate, predict, evaluate\n",
    "from pcntoolkit.util.utils import compute_MSLL, create_design_matrix\n",
    "from nm_utils import remove_bad_subjects, load_2d, predict_on_new_sites"
   ]
  },
  {
   "cell_type": "markdown",
   "id": "802b1da6-04cc-4310-af81-f50d38c3e653",
   "metadata": {},
   "source": [
    "Next, we configure some basic variables, like where we want the analysis to be done and which model we want to use.\n",
    "\n",
    "**Note:** We maintain two list of site ids, which describe the site names in the training and test data (`site_ids_tr` and `site_ids_te`). The training site ids are provided as a text file in the distribution and the test ids are extracted automatically from the pandas dataframe (see below). If you use additional data from the sites (e.g. later waves from ABCD), it may be necessary to adjust the site names to match the names in the training set. See the accompanying paper for more details"
   ]
  },
  {
   "cell_type": "code",
   "execution_count": 2,
   "id": "26b35c64-41fd-4ecd-bf6e-3e7b34a67279",
   "metadata": {},
   "outputs": [],
   "source": [
    "# which model do we wish to use?\n",
    "model_name = 'lifespan_29K_82sites_train'\n",
    "\n",
    "# where the analysis takes place\n",
    "root_dir = '/Users/andmar/data/sairut/braincharts'\n",
    "out_dir = os.path.join(root_dir, 'models', model_name)\n",
    "\n",
    "# load a set of site ids from this model. This must match the training data\n",
    "with open(os.path.join(root_dir,'docs','site_ids_82sites.txt')) as f:\n",
    "    site_ids_tr = f.read().splitlines()"
   ]
  },
  {
   "cell_type": "markdown",
   "id": "3aab54a5-2579-48d8-a81b-bbd34cea1213",
   "metadata": {},
   "source": [
    "### Load test data\n",
    "\n",
    "Now we load the test data and remove some subjects that may have poor scan quality. This asssesment is based on the Freesurfer Euler characteristic as described in the papers below. \n",
    "\n",
    "**References**\n",
    "- [Kia et al 2021](https://www.biorxiv.org/content/10.1101/2021.05.28.446120v1.abstract)\n",
    "- [Rosen et al 2018](https://www.sciencedirect.com/science/article/abs/pii/S1053811917310832?via%3Dihub)"
   ]
  },
  {
   "cell_type": "code",
   "execution_count": 14,
   "id": "262d429a-160b-4ba3-9ba4-9acc195bc644",
   "metadata": {},
   "outputs": [
    {
     "name": "stdout",
     "output_type": "stream",
     "text": [
      "0 subjects are removed!\n"
     ]
    }
   ],
   "source": [
    "#test_data = '/Users/andmar/data/sairut/data/lifespan_big_controls_te.csv'\n",
    "test_data = '/Users/andmar/data/sairut/data/fcon1000_te.csv'\n",
    "\n",
    "df_te = pd.read_csv(test_data, index_col=0)\n",
    "df_te = df_te.loc[df_te['site'] == 'Beijing_Zang']\n",
    "\n",
    "# remove some bad subjects\n",
    "df_te, bad_sub = remove_bad_subjects(df_te, df_te)\n",
    "\n",
    "# extract a list of unique site ids from the test set\n",
    "site_ids_te =  sorted(set(df_te['site'].to_list()))"
   ]
  },
  {
   "cell_type": "markdown",
   "id": "c636509a-8b12-43f1-811c-08cb22640be2",
   "metadata": {},
   "source": [
    "### Load adaptation data"
   ]
  },
  {
   "cell_type": "code",
   "execution_count": 15,
   "id": "53551023-aff6-4934-ad2d-d77bc63c562d",
   "metadata": {},
   "outputs": [
    {
     "name": "stdout",
     "output_type": "stream",
     "text": [
      "1 subjects are removed!\n"
     ]
    }
   ],
   "source": [
    "adaptation_data = '/Users/andmar/data/sairut/data/fcon1000_tr.csv'\n",
    "\n",
    "df_ad = pd.read_csv(adaptation_data, index_col=0)\n",
    "df_ad = df_ad.loc[df_ad['site'] == 'Beijing_Zang']\n",
    "\n",
    "# remove some bad subjects\n",
    "df_ad, bad_sub = remove_bad_subjects(df_ad, df_ad)\n",
    "\n",
    "# extract a list of unique site ids from the test set\n",
    "site_ids_ad =  sorted(set(df_ad['site'].to_list()))\n",
    "\n",
    "if not all(elem in site_ids_ad for elem in site_ids_te):\n",
    "    raise(ValueError, 'some of the testing sites are not in the adaptation data')"
   ]
  },
  {
   "cell_type": "markdown",
   "id": "4f73e30e-c693-44b8-98c6-52b71b577ea8",
   "metadata": {},
   "source": [
    "### Configure which models to fit\n",
    "\n",
    "Now, we configure which imaging derived phenotypes (IDPs) we would like to process. This is just a list of column names in the dataframe we have loaded above. \n",
    "\n",
    "We could load the whole set (i.e. all phenotypes for which we have models for ... "
   ]
  },
  {
   "cell_type": "code",
   "execution_count": 16,
   "id": "b48e104c-cbac-4ae2-8377-cd3ff80162fd",
   "metadata": {},
   "outputs": [],
   "source": [
    "# load the list of idps for left and right hemispheres, plus subcortical regions\n",
    "with open(os.path.join(root_dir,'docs','phenotypes_lh.txt')) as f:\n",
    "    idp_ids_lh = f.read().splitlines()\n",
    "with open(os.path.join(root_dir,'docs','phenotypes_rh.txt')) as f:\n",
    "    idp_ids_rh = f.read().splitlines()\n",
    "with open(os.path.join(root_dir,'docs','phenotypes_sc.txt')) as f:\n",
    "    idp_ids_sc = f.read().splitlines()\n",
    "\n",
    "# we choose here to process all idps\n",
    "idp_ids = idp_ids_lh + idp_ids_rh + idp_ids_sc"
   ]
  },
  {
   "cell_type": "markdown",
   "id": "280731ad-47d8-43e2-8cb5-4eccfd9f3f81",
   "metadata": {},
   "source": [
    "... or alternatively, we could just specify a list"
   ]
  },
  {
   "cell_type": "code",
   "execution_count": 17,
   "id": "8b74d75f-77a5-474a-9c9b-29aab1ce53a2",
   "metadata": {},
   "outputs": [],
   "source": [
    "idp_ids = ['lh_MeanThickness_thickness']"
   ]
  },
  {
   "cell_type": "markdown",
   "id": "56ee1f7f-8684-4f1c-b142-a68176407029",
   "metadata": {},
   "source": [
    "### Configure covariates \n",
    "\n",
    "Now, we configure some parameters to fit the model. First, we choose which columns of the pandas dataframe contain the covariates (age and sex). The site parameters are configured automatically later on by the `configure_design_matrix()` function, when we loop through the IDPs in the list\n",
    "\n",
    "The supplied coefficients are derived from a 'warped' Bayesian linear regression model, which uses a nonlinear warping function to model non-Gaussianity (`sinarcsinh`) plus a non-linear basis expansion (a cubic b-spline basis set with 5 knot points, which is the default value in the PCNtoolkit package). Since we are sticking with the default value, we do not need to specify any parameters for this, but we do need to specify the limits. We choose to pad the input by a few years either side of the input range. We will also set a couple of options that control the estimation of the model\n",
    "\n",
    "For further details about the likelihood warping approach, see the accompanying paer and [Fraza et al 2021](https://www.biorxiv.org/content/10.1101/2021.04.05.438429v1)."
   ]
  },
  {
   "cell_type": "code",
   "execution_count": 18,
   "id": "62312b8e-4972-4238-abf9-87d9bb33cc10",
   "metadata": {},
   "outputs": [],
   "source": [
    "# which data columns do we wish to use as covariates? \n",
    "cols_cov = ['age','sex']\n",
    "\n",
    "# limits for cubic B-spline basis \n",
    "xmin = -5 \n",
    "xmax = 110"
   ]
  },
  {
   "cell_type": "markdown",
   "id": "42bc1072-e9ed-4f2a-9fdd-cbd626a61542",
   "metadata": {},
   "source": [
    "### Make predictions\n",
    "\n",
    "This will make predictions for each of the IDP separately. This is done by extracting a column from the dataframe (i.e. specifying the IDP as the response variable) and saving it as a numpy array. Then, we configure the covariates, which is a numpy data array having the number of rows equal to the number of datapoints in the test set. The columns are specified as follows: \n",
    "\n",
    "- A global intercept (column of ones)\n",
    "- The covariate columns (here age and sex, coded as 0=female/1=male)\n",
    "- Dummy coded columns for the sites in the training set (one column per site)\n",
    "- Columns for the basis expansion (seven columns for the default parameterisation)\n",
    "\n",
    "Once these are saved as numpy arrays in ascii format (as here) or (alternatively) in pickle format, these are passed as inputs to the `predict()` method in the PCNtoolkit normative modelling framework. These are written in the same format to the location specified by `idp_dir`."
   ]
  },
  {
   "cell_type": "code",
   "execution_count": 34,
   "id": "07b7471b-c334-464f-8273-b409b7acaac2",
   "metadata": {},
   "outputs": [
    {
     "name": "stdout",
     "output_type": "stream",
     "text": [
      "Running IDP 0 lh_MeanThickness_thickness :\n"
     ]
    },
    {
     "data": {
      "image/png": "[encoded data removed]",
      "text/plain": [
       "<Figure size 432x288 with 1 Axes>"
      ]
     },
     "metadata": {},
     "output_type": "display_data"
    }
   ],
   "source": [
    "for idp_num, idp in enumerate(idp_ids): \n",
    "    print('Running IDP', idp_num, idp, ':')\n",
    "    idp_dir = os.path.join(out_dir, idp)\n",
    "    os.chdir(idp_dir)\n",
    "    \n",
    "    # extract and save the response variables for the test set\n",
    "    y_te = df_te[idp].to_numpy()\n",
    "    y_te = y_te[:, np.newaxis]\n",
    "    resp_file_te = os.path.join(idp_dir, 'resp_te.txt') \n",
    "    np.savetxt(resp_file_te, y_te)\n",
    "        \n",
    "    # configure and save the design matrix\n",
    "    cov_file_te = os.path.join(idp_dir, 'cov_bspline_te.txt')\n",
    "    X_te = create_design_matrix(df_te[cols_cov], \n",
    "                                site_ids = df_te['site'],\n",
    "                                all_sites = site_ids_tr,\n",
    "                                basis = 'bspline', \n",
    "                                xmin = xmin, \n",
    "                                xmax = xmax)\n",
    "    np.savetxt(cov_file_te, X_te)\n",
    "    \n",
    "    # check whether all sites in the test set are represented in the training set\n",
    "    if all(elem in site_ids_tr for elem in site_ids_te):\n",
    "        print('All sites are present in the training data')\n",
    "        yhat_te, s2_te, Z = predict(cov_file_te, \n",
    "                                    alg='blr', \n",
    "                                    respfile=resp_file_te, \n",
    "                                    model_path=os.path.join(idp_dir,'Models'))\n",
    "    else:           \n",
    "        X_ad = create_design_matrix(df_ad[cols_cov], \n",
    "                                    site_ids = df_ad['site'],\n",
    "                                    all_sites = site_ids_tr,\n",
    "                                    basis = 'bspline', \n",
    "                                    xmin = xmin, \n",
    "                                    xmax = xmax)\n",
    "        #cov_file_ad = os.path.join(idp_dir, 'cov_bspline_ad.txt')          \n",
    "        #np.savetxt(cov_file_ad, X_ad)\n",
    "        \n",
    "        y_ad = df_ad[idp].to_numpy()\n",
    "        y_ad = y_ad[:, np.newaxis]\n",
    "\n",
    "        # load the normative model\n",
    "        with open(os.path.join(idp_dir,'Models', 'NM_0_0_estimate.pkl'), 'rb') as handle:\n",
    "            nm = pickle.load(handle) \n",
    " \n",
    "        yhat_te, s2_te = predict_on_new_sites(nm.blr, nm.blr.hyp, X_ad, y_ad, Xs = X_te)\n",
    "        yhat_te = yhat_te[:, np.newaxis]\n",
    "        np.savetxt(os.path.join(idp_dir, 'yhat_predict.txt'), yhat_te)\n",
    "        np.savetxt(os.path.join(idp_dir, 'ys2_predict.txt'), s2_te)\n",
    "        \n",
    "    plt.scatter(X_te[:,1], yhat_te)\n",
    "    plt.scatter(X_te[:,1], y_te)\n",
    "    "
   ]
  },
  {
   "cell_type": "code",
   "execution_count": 24,
   "id": "ac2f96e0-db6e-4f3e-a024-86fae1ac2694",
   "metadata": {},
   "outputs": [
    {
     "data": {
      "text/plain": [
       "'/Users/andmar/data/sairut/braincharts/models/lifespan_29K_82sites_train/lh_MeanThickness_thickness/cov_bspline_te.txt'"
      ]
     },
     "execution_count": 24,
     "metadata": {},
     "output_type": "execute_result"
    }
   ],
   "source": [
    "cov_file_te"
   ]
  },
  {
   "cell_type": "markdown",
   "id": "75210821-ccb8-4bd2-82f3-641708811b21",
   "metadata": {},
   "source": [
    "### Plotting the normative models\n",
    "\n",
    "Now, we plot the centiles of variation estimated by the normative model. \n",
    "\n",
    "We do this by making use of a set of dummy covariates that span the whole range of the input space (for age) for a fixed value of the other covariates (e.g. sex). First, we configure this using the same procedure as we used for the real data."
   ]
  },
  {
   "cell_type": "code",
   "execution_count": 31,
   "id": "2d0743d8-28ca-4a14-8ef0-99bf40434b5b",
   "metadata": {},
   "outputs": [
    {
     "name": "stdout",
     "output_type": "stream",
     "text": [
      "configuring dummy data\n"
     ]
    }
   ],
   "source": [
    "# which sex do we want to plot? \n",
    "sex = 1 # 1 = male 0 = female\n",
    "if sex == 1: \n",
    "    clr = 'blue';\n",
    "else:\n",
    "    clr = 'red'\n",
    "\n",
    "# create dummy data for visualisation\n",
    "print('configuring dummy data')\n",
    "xx = np.arange(xmin, xmax, 0.5)\n",
    "X0_dummy = np.zeros((len(xx), 2))\n",
    "X0_dummy[:,0] = xx\n",
    "X0_dummy[:,1] = sex\n",
    "\n",
    "# create the design matrix\n",
    "X_dummy = create_design_matrix(X0_dummy, xmin=xmin, xmax=xmax, site_ids=None, all_sites=site_ids_tr)\n",
    "\n",
    "# save the dummy covariates\n",
    "cov_file_dummy = os.path.join(out_dir,'cov_bspline_dummy_mean.txt')\n",
    "np.savetxt(cov_file_dummy, X_dummy)"
   ]
  },
  {
   "cell_type": "markdown",
   "id": "126323a3-2270-4796-97c4-94629730ddf7",
   "metadata": {},
   "source": [
    "Now we loop through the IDPs, plotting each one separately. \n",
    "\n",
    "Note that it is necessary to update the intercept for each of the sites. For purposes of visualisation, here we do this by adjusting the median of the data to match the dummy predictions, but note that all the quantitative metrics are estimated using the predictions that are adjusted properly using an adaptation set "
   ]
  },
  {
   "cell_type": "code",
   "execution_count": 35,
   "id": "cdd68cc6-212b-4149-b86a-24e842078e1a",
   "metadata": {},
   "outputs": [
    {
     "name": "stdout",
     "output_type": "stream",
     "text": [
      "Running IDP 0 lh_MeanThickness_thickness :\n",
      "Making predictions with dummy covariates (for visualisation)\n",
      "Loading data ...\n",
      "Prediction by model  1 of 1\n",
      "Writing outputs ...\n",
      "metrics: {'RMSE': array([0.07757709]), 'Rho': array([-0.01367364]), 'pRho': array([0.90026327]), 'SMSE': array([1.08009655]), 'EXPV': array([-0.07892367])}\n",
      "plotting site 0 Beijing_Zang 33\n"
     ]
    },
    {
     "data": {
      "image/png": "[encoded data removed]",
      "text/plain": [
       "<Figure size 432x288 with 1 Axes>"
      ]
     },
     "metadata": {},
     "output_type": "display_data"
    }
   ],
   "source": [
    "sns.set(style='whitegrid')\n",
    "\n",
    "for idp_num, idp in enumerate(idp_ids): \n",
    "    print('Running IDP', idp_num, idp, ':')\n",
    "    idp_dir = os.path.join(out_dir, idp)\n",
    "    os.chdir(idp_dir)\n",
    "    \n",
    "    # load the true data points\n",
    "    yhat_te = load_2d(os.path.join(idp_dir, 'yhat_predict.txt'))\n",
    "    s2_te = load_2d(os.path.join(idp_dir, 'ys2_predict.txt'))\n",
    "    y_te = load_2d(os.path.join(idp_dir, 'resp_te.txt'))\n",
    "            \n",
    "    # set up the covariates for the dummy data\n",
    "    print('Making predictions with dummy covariates (for visualisation)')\n",
    "    yhat, s2 = predict(cov_file_dummy, \n",
    "                       alg = 'blr', \n",
    "                       respfile = None, \n",
    "                       model_path = os.path.join(idp_dir,'Models'), \n",
    "                       outputsuffix = '_dummy')\n",
    "    \n",
    "    # load the normative model\n",
    "    with open(os.path.join(idp_dir,'Models', 'NM_0_0_estimate.pkl'), 'rb') as handle:\n",
    "        nm = pickle.load(handle) \n",
    "    \n",
    "    # get the warp and warp parameters\n",
    "    W = nm.blr.warp\n",
    "    warp_param = nm.blr.hyp[1:nm.blr.warp.get_n_params()+1] \n",
    "        \n",
    "    # first we warp predictions for the true data and compute evaluation metrics\n",
    "    med_te = W.warp_predictions(np.squeeze(yhat_te), np.squeeze(s2_te), warp_param)[0]\n",
    "    med_te = med_te[:, np.newaxis]\n",
    "    print('metrics:', evaluate(y_te, med_te))\n",
    "    \n",
    "    # then, we warp dummy predictions to create the plots\n",
    "    med, pr_int = W.warp_predictions(np.squeeze(yhat), np.squeeze(s2), warp_param)\n",
    "    \n",
    "    # extract the different variance components to visualise\n",
    "    beta, junk1, junk2 = nm.blr._parse_hyps(nm.blr.hyp, X_dummy)\n",
    "    s2n = 1/beta # variation (aleatoric uncertainty)\n",
    "    s2s = s2-s2n # modelling uncertainty (epistemic uncertainty)\n",
    "    \n",
    "    # plot the data points\n",
    "    y_te_rescaled_all = np.zeros_like(y_te)\n",
    "    for sid, site in enumerate(site_ids_te):\n",
    "                \n",
    "        # plot the true test data points\n",
    "        #afm idx = np.where(np.bitwise_and(X_te[:,2] == sex, X_te[:,sid+len(cols_cov)+1] !=0))\n",
    "        idx = np.where(np.bitwise_and(X_te[:,2] == sex, (df_te['site'] == site).to_numpy()))\n",
    "        if len(idx[0]) == 0:\n",
    "            print('No data for site', sid, site, 'skipping...')\n",
    "            continue\n",
    "        else:\n",
    "            print('plotting site', sid, site, len(idx[0]))\n",
    "            idx_dummy = np.bitwise_and(X_dummy[:,1] > X_te[idx,1].min(), X_dummy[:,1] < X_te[idx,1].max())\n",
    "        \n",
    "        # adjust the intercept\n",
    "        y_te_rescaled = y_te[idx] - np.median(y_te[idx]) + np.median(med[idx_dummy])\n",
    "        plt.scatter(X_te[idx,1], y_te_rescaled, s=4, color=clr, alpha = 0.05)\n",
    "        \n",
    "        #y_te_rescaled = y_te[idx]\n",
    "        #y_te_rescaled, s2_rescaled = nm.blr.transfer(nm.blr.hyp, X_te[idx,:], y_te[idx], X_te[idx,:], ys=y_te[idx])\n",
    "        #y_te_rescaled = W.invf(y_te_rescaled, warp_param)\n",
    "        #plt.scatter(X_te[idx,1], y_te_rescaled, s=4)\n",
    "        \n",
    "    # plot the median of the dummy data\n",
    "    plt.plot(xx, med, clr)\n",
    "    \n",
    "    # fill the gaps in between the centiles\n",
    "    junk, pr_int25 = W.warp_predictions(np.squeeze(yhat), np.squeeze(s2), warp_param, percentiles=[0.25,0.75])\n",
    "    junk, pr_int95 = W.warp_predictions(np.squeeze(yhat), np.squeeze(s2), warp_param, percentiles=[0.05,0.95])\n",
    "    junk, pr_int99 = W.warp_predictions(np.squeeze(yhat), np.squeeze(s2), warp_param, percentiles=[0.01,0.99])\n",
    "    plt.fill_between(xx, pr_int25[:,0], pr_int25[:,1], alpha = 0.1,color=clr)\n",
    "    plt.fill_between(xx, pr_int95[:,0], pr_int95[:,1], alpha = 0.1,color=clr)\n",
    "    plt.fill_between(xx, pr_int99[:,0], pr_int99[:,1], alpha = 0.1,color=clr)\n",
    "            \n",
    "    # make the width of each centile proportional to the epistemic uncertainty\n",
    "    junk, pr_int25l = W.warp_predictions(np.squeeze(yhat), np.squeeze(s2-0.5*s2s), warp_param, percentiles=[0.25,0.75])\n",
    "    junk, pr_int95l = W.warp_predictions(np.squeeze(yhat), np.squeeze(s2-0.5*s2s), warp_param, percentiles=[0.05,0.95])\n",
    "    junk, pr_int99l = W.warp_predictions(np.squeeze(yhat), np.squeeze(s2-0.5*s2s), warp_param, percentiles=[0.01,0.99])\n",
    "    junk, pr_int25u = W.warp_predictions(np.squeeze(yhat), np.squeeze(s2+0.5*s2s), warp_param, percentiles=[0.25,0.75])\n",
    "    junk, pr_int95u = W.warp_predictions(np.squeeze(yhat), np.squeeze(s2+0.5*s2s), warp_param, percentiles=[0.05,0.95])\n",
    "    junk, pr_int99u = W.warp_predictions(np.squeeze(yhat), np.squeeze(s2+0.5*s2s), warp_param, percentiles=[0.01,0.99])    \n",
    "    plt.fill_between(xx, pr_int25l[:,0], pr_int25u[:,0], alpha = 0.3,color=clr)\n",
    "    plt.fill_between(xx, pr_int95l[:,0], pr_int95u[:,0], alpha = 0.3,color=clr)\n",
    "    plt.fill_between(xx, pr_int99l[:,0], pr_int99u[:,0], alpha = 0.3,color=clr)\n",
    "    plt.fill_between(xx, pr_int25l[:,1], pr_int25u[:,1], alpha = 0.3,color=clr)\n",
    "    plt.fill_between(xx, pr_int95l[:,1], pr_int95u[:,1], alpha = 0.3,color=clr)\n",
    "    plt.fill_between(xx, pr_int99l[:,1], pr_int99u[:,1], alpha = 0.3,color=clr)\n",
    "\n",
    "    # plot actual centile lines\n",
    "    plt.plot(xx, pr_int25[:,0],color=clr, linewidth=0.5)\n",
    "    plt.plot(xx, pr_int25[:,1],color=clr, linewidth=0.5)\n",
    "    plt.plot(xx, pr_int95[:,0],color=clr, linewidth=0.5)\n",
    "    plt.plot(xx, pr_int95[:,1],color=clr, linewidth=0.5)\n",
    "    plt.plot(xx, pr_int99[:,0],color=clr, linewidth=0.5)\n",
    "    plt.plot(xx, pr_int99[:,1],color=clr, linewidth=0.5)\n",
    "    \n",
    "    plt.xlabel('Age')\n",
    "    plt.ylabel(idp) \n",
    "    plt.title(idp)\n",
    "    plt.xlim((0,90))\n",
    "    plt.savefig(os.path.join(idp_dir, 'centiles_' + str(sex)),  bbox_inches='tight')\n",
    "    plt.show()"
   ]
  },
  {
   "cell_type": "code",
   "execution_count": null,
   "id": "b60454cf-9e05-49b7-93a1-464e6ff467d9",
   "metadata": {},
   "outputs": [],
   "source": []
  }
 ],
 "metadata": {
  "kernelspec": {
   "display_name": "Python 3",
   "language": "python",
   "name": "python3"
  },
  "language_info": {
   "codemirror_mode": {
    "name": "ipython",
    "version": 3
   },
   "file_extension": ".py",
   "mimetype": "text/x-python",
   "name": "python",
   "nbconvert_exporter": "python",
   "pygments_lexer": "ipython3",
   "version": "3.8.10"
  }
 },
 "nbformat": 4,
 "nbformat_minor": 5
}
